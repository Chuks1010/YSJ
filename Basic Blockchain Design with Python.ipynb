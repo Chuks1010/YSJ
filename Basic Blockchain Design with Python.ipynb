{
 "cells": [
  {
   "cell_type": "code",
   "execution_count": 1,
   "id": "b234228b-5e76-4fb8-ba18-04b3e409cdbe",
   "metadata": {},
   "outputs": [],
   "source": [
    "# importing the required library\n",
    "import json\n",
    "import hashlib\n",
    "import copy\n",
    "from datetime import datetime, timezone, timedelta"
   ]
  },
  {
   "cell_type": "code",
   "execution_count": 2,
   "id": "eea7e378-9596-4cf3-98d7-b5794a8e7bc5",
   "metadata": {},
   "outputs": [],
   "source": [
    "# defining the class\n",
    "class SimpleBlockchain:\n",
    "    def __init__(self, difficulty=4):\n",
    "        \"\"\"\n",
    "        Initializes the blockchain with a specified difficulty.\n",
    "        Automatically creates the genesis block.\n",
    "        \"\"\"\n",
    "        self.chain = []               # The list storing the entire blockchain\n",
    "        self.data_set = set()         # Used to prevent duplicate data entries\n",
    "        self.difficulty = difficulty  # Proof-of-work difficulty level\n",
    "        self.create_genesis_block()   # Create the first block in the chain\n",
    "\n",
    "    def create_genesis_block(self):\n",
    "        \"\"\"\n",
    "        Creates the first block in the blockchain with predefined values.\n",
    "        This block has no previous hash and serves as the foundation.\n",
    "        \"\"\"\n",
    "        genesis_block = {\n",
    "            'index': 0,\n",
    "            'timestamp': datetime.now(timezone.utc).strftime(\"%Y-%m-%d %H:%M:%S\"),\n",
    "            'data': \"Genesis Block\",\n",
    "            'previous_hash': '0',\n",
    "            'nonce': 0,\n",
    "            'hash': ''\n",
    "        }\n",
    "        genesis_block['hash'] = self.compute_hash(genesis_block)\n",
    "        self.chain.append(genesis_block)\n",
    "        self.data_set.add(\"Genesis Block\")\n",
    "\n",
    "    def add_block(self, data):\n",
    "        \"\"\"\n",
    "        Adds a new block with the given data to the blockchain,\n",
    "        after verifying the data is valid and unique.\n",
    "        \"\"\"\n",
    "        if not data:\n",
    "            return None  # Reject empty data\n",
    "\n",
    "        if data in self.data_set and data != \"Genesis Block\":\n",
    "            return None  # Reject duplicates\n",
    "\n",
    "        last_block = self.chain[-1]\n",
    "        new_block = {\n",
    "            'index': len(self.chain),\n",
    "            'timestamp': datetime.now(timezone.utc).strftime(\"%Y-%m-%d %H:%M:%S\"),\n",
    "            'data': data,\n",
    "            'previous_hash': last_block['hash'],\n",
    "            'nonce': 0,\n",
    "            'hash': ''\n",
    "        }\n",
    "\n",
    "        new_block['hash'] = self.proof_of_work(new_block)\n",
    "        self.chain.append(new_block)\n",
    "        self.data_set.add(data)\n",
    "        return new_block\n",
    "\n",
    "    def compute_hash(self, block):\n",
    "        \"\"\"\n",
    "        Computes a SHA-256 hash of a block, excluding the 'hash' field.\n",
    "        \"\"\"\n",
    "        block_copy = block.copy()\n",
    "        block_copy.pop('hash', None)\n",
    "        encoded_block = json.dumps(block_copy, sort_keys=True).encode()\n",
    "        return hashlib.sha256(encoded_block).hexdigest()\n",
    "\n",
    "    def proof_of_work(self, block):\n",
    "        \"\"\"\n",
    "        Performs the proof-of-work algorithm by finding a nonce such that the\n",
    "        block's hash starts with a number of leading zeros defined by difficulty.\n",
    "        \"\"\"\n",
    "        block['nonce'] = 0\n",
    "        while True:\n",
    "            block['hash'] = self.compute_hash(block)\n",
    "            if block['hash'].startswith('0' * self.difficulty):\n",
    "                return block['hash']\n",
    "            block['nonce'] += 1\n",
    "\n",
    "    def is_chain_valid(self, chain):\n",
    "        \"\"\"\n",
    "        Validates the integrity of the blockchain by checking hashes,\n",
    "        previous hash links, and proof-of-work conditions.\n",
    "        \"\"\"\n",
    "        for i in range(1, len(chain)):\n",
    "            current = chain[i]\n",
    "            previous = chain[i - 1]\n",
    "\n",
    "            if current['previous_hash'] != previous['hash']:\n",
    "                print(f\"Validation Error: Block {current['index']} previous hash mismatch.\")\n",
    "                return False\n",
    "\n",
    "            computed_hash = self.compute_hash(current.copy())\n",
    "            if current['hash'] != computed_hash:\n",
    "                print(f\"Validation Error: Block {current['index']} hash mismatch.\")\n",
    "                return False\n",
    "\n",
    "            if not current['hash'].startswith('0' * self.difficulty):\n",
    "                print(f\"Validation Error: Block {current['index']} does not meet PoW difficulty.\")\n",
    "                return False\n",
    "\n",
    "        return True\n",
    "\n",
    "    def replace_chain(self, new_chain):\n",
    "        \"\"\"\n",
    "        Replaces the current chain with a new, longer, valid chain.\n",
    "        This supports the longest-chain consensus protocol.\n",
    "        \"\"\"\n",
    "        if len(new_chain) > len(self.chain) and self.is_chain_valid(new_chain):\n",
    "            self.chain = copy.deepcopy(new_chain)\n",
    "            self.data_set = {block['data'] for block in self.chain}\n",
    "            print(\"Chain replaced ✅ - New chain is longer and valid.\")\n",
    "            return True\n",
    "        elif len(new_chain) <= len(self.chain):\n",
    "            print(\"Chain not replaced ❌ - New chain is not longer than current chain.\")\n",
    "        else:\n",
    "            print(\"Chain not replaced ❌ - New chain is invalid.\")\n",
    "        return False\n",
    "\n",
    "    def export_chain(self, filename=\"blockchain.json\"):\n",
    "        \"\"\"\n",
    "        Exports the blockchain to a JSON file for persistence or sharing.\n",
    "        \"\"\"\n",
    "        with open(filename, \"w\") as f:\n",
    "            json.dump(self.chain, f, indent=4)\n",
    "        print(f\"Blockchain exported to '{filename}'.\")\n"
   ]
  },
  {
   "cell_type": "code",
   "execution_count": 3,
   "id": "2ba08ca7-3601-412d-93cd-411cd4c40ed6",
   "metadata": {},
   "outputs": [
    {
     "name": "stdout",
     "output_type": "stream",
     "text": [
      "Test 1: Blockchain initialized. Genesis block created.\n",
      "Current Chain Length: 1\n",
      "Genesis Block Details:\n",
      "{\n",
      "    \"index\": 0,\n",
      "    \"timestamp\": \"2025-06-09 14:55:45\",\n",
      "    \"data\": \"Genesis Block\",\n",
      "    \"previous_hash\": \"0\",\n",
      "    \"nonce\": 0,\n",
      "    \"hash\": \"b02158d31d77d37a79b45f267118d267fd49f1188c820f57a21e9484da48e6c5\"\n",
      "}\n",
      "------------------------------------------------------------\n"
     ]
    }
   ],
   "source": [
    "# Test 1: Initialize the blockchain\n",
    "blockchain = SimpleBlockchain()\n",
    "print(\"Test 1: Blockchain initialized. Genesis block created.\")\n",
    "print(\"Current Chain Length:\", len(blockchain.chain))\n",
    "print(f\"Genesis Block Details:\\n{json.dumps(blockchain.chain[0], indent=4)}\")\n",
    "print(\"-\" * 60)"
   ]
  },
  {
   "cell_type": "code",
   "execution_count": 4,
   "id": "cf97043c-afc5-4988-a614-0154d295d062",
   "metadata": {},
   "outputs": [
    {
     "name": "stdout",
     "output_type": "stream",
     "text": [
      "Test 2: Adding valid block with unique data.\n",
      "Result: Added ✅ - Data 'Patient A - Diagnosis: Flu' is unique and valid.\n",
      "Block 1 Details:\n",
      "{\n",
      "    \"index\": 1,\n",
      "    \"timestamp\": \"2025-06-09 14:55:45\",\n",
      "    \"data\": \"Patient A - Diagnosis: Flu\",\n",
      "    \"previous_hash\": \"b02158d31d77d37a79b45f267118d267fd49f1188c820f57a21e9484da48e6c5\",\n",
      "    \"nonce\": 155409,\n",
      "    \"hash\": \"0000587b698a57b2b6ec0044fa40505745c7b893cc758170b1952d40ebd41b22\"\n",
      "}\n",
      "------------------------------------------------------------\n"
     ]
    }
   ],
   "source": [
    "# Test 2: Try adding a valid block with unique data\n",
    "print(\"Test 2: Adding valid block with unique data.\")\n",
    "data_to_add_1 = \"Patient A - Diagnosis: Flu\"\n",
    "result = blockchain.add_block(data_to_add_1)\n",
    "if result:\n",
    "    print(f\"Result: Added ✅ - Data '{data_to_add_1}' is unique and valid.\")\n",
    "    print(f\"Block {blockchain.chain[-1]['index']} Details:\\n{json.dumps(blockchain.chain[-1], indent=4)}\")\n",
    "else:\n",
    "    print(f\"Result: Rejected ❌ - Could not add '{data_to_add_1}'.\")\n",
    "print(\"-\" * 60)"
   ]
  },
  {
   "cell_type": "code",
   "execution_count": 5,
   "id": "f36b5a82-b7ac-48e1-bc5d-b038e8bcc465",
   "metadata": {},
   "outputs": [
    {
     "name": "stdout",
     "output_type": "stream",
     "text": [
      "Test 3: Adding another valid block with different data.\n",
      "Result: Added ✅ - Data 'Patient B - Diagnosis: Cold' is unique and valid.\n",
      "Block 2 Details:\n",
      "{\n",
      "    \"index\": 2,\n",
      "    \"timestamp\": \"2025-06-09 14:55:49\",\n",
      "    \"data\": \"Patient B - Diagnosis: Cold\",\n",
      "    \"previous_hash\": \"0000587b698a57b2b6ec0044fa40505745c7b893cc758170b1952d40ebd41b22\",\n",
      "    \"nonce\": 2479,\n",
      "    \"hash\": \"0000ca2e1131e81979047eea84453c8b287c773e4a713c445dbae70ac4ca22f3\"\n",
      "}\n",
      "------------------------------------------------------------\n"
     ]
    }
   ],
   "source": [
    "# Test 3: Try adding another valid block with different data\n",
    "print(\"Test 3: Adding another valid block with different data.\")\n",
    "data_to_add_2 = \"Patient B - Diagnosis: Cold\"\n",
    "result = blockchain.add_block(data_to_add_2)\n",
    "if result:\n",
    "    print(f\"Result: Added ✅ - Data '{data_to_add_2}' is unique and valid.\")\n",
    "    print(f\"Block {blockchain.chain[-1]['index']} Details:\\n{json.dumps(blockchain.chain[-1], indent=4)}\")\n",
    "else:\n",
    "    print(f\"Result: Rejected ❌ - Could not add '{data_to_add_2}'.\")\n",
    "print(\"-\" * 60)"
   ]
  },
  {
   "cell_type": "code",
   "execution_count": 6,
   "id": "9a7c9ea5-eec2-485c-945a-9bc54386875c",
   "metadata": {},
   "outputs": [
    {
     "name": "stdout",
     "output_type": "stream",
     "text": [
      "Test 4: Attempting to add block with empty data.\n",
      "Result: Rejected ❌ - Empty data not allowed.\n",
      "------------------------------------------------------------\n"
     ]
    }
   ],
   "source": [
    "# Test 4: Try adding a block with empty data\n",
    "print(\"Test 4: Attempting to add block with empty data.\")\n",
    "data_to_add_empty = \"\"\n",
    "result = blockchain.add_block(data_to_add_empty)\n",
    "if result:\n",
    "    print(f\"Result: Added ✅ - Data '{data_to_add_empty}' is unique and valid.\")\n",
    "    print(f\"Block {blockchain.chain[-1]['index']} Details:\\n{json.dumps(blockchain.chain[-1], indent=4)}\")\n",
    "else:\n",
    "    print(f\"Result: Rejected ❌ - Empty data not allowed.\")\n",
    "print(\"-\" * 60)"
   ]
  },
  {
   "cell_type": "code",
   "execution_count": 7,
   "id": "5cb0ec8a-23f6-4873-a6b3-651b97f88332",
   "metadata": {},
   "outputs": [
    {
     "name": "stdout",
     "output_type": "stream",
     "text": [
      "Test 5: Attempting to add duplicate data block.\n",
      "Result: Rejected ❌ - Duplicate data 'Patient A - Diagnosis: Flu' already exists.\n",
      "------------------------------------------------------------\n"
     ]
    }
   ],
   "source": [
    "# Test 5: Try adding a duplicate block\n",
    "print(\"Test 5: Attempting to add duplicate data block.\")\n",
    "data_to_add_duplicate = \"Patient A - Diagnosis: Flu\" # This was added in Test 2\n",
    "result = blockchain.add_block(data_to_add_duplicate)\n",
    "if result:\n",
    "    print(f\"Result: Added ✅ - Data '{data_to_add_duplicate}' is unique and valid.\")\n",
    "    print(f\"Block {blockchain.chain[-1]['index']} Details:\\n{json.dumps(blockchain.chain[-1], indent=4)}\")\n",
    "else:\n",
    "    print(f\"Result: Rejected ❌ - Duplicate data '{data_to_add_duplicate}' already exists.\")\n",
    "print(\"-\" * 60)"
   ]
  },
  {
   "cell_type": "code",
   "execution_count": 8,
   "id": "dfe98bb0-4668-4def-adbb-3cf516ec3383",
   "metadata": {},
   "outputs": [
    {
     "name": "stdout",
     "output_type": "stream",
     "text": [
      "Test 6: Printing current blockchain contents.\n",
      "Index: 0, Data: Genesis Block, Hash: b02158d31d...\n",
      "Index: 1, Data: Patient A - Diagnosis: Flu, Hash: 0000587b69...\n",
      "Index: 2, Data: Patient B - Diagnosis: Cold, Hash: 0000ca2e11...\n",
      "------------------------------------------------------------\n"
     ]
    }
   ],
   "source": [
    "# Test 6: Print full chain contents\n",
    "print(\"Test 6: Printing current blockchain contents.\")\n",
    "for block in blockchain.chain:\n",
    "    print(f\"Index: {block['index']}, Data: {block['data']}, Hash: {block['hash'][:10]}...\") # Truncate hash for readability\n",
    "print(\"-\" * 60)"
   ]
  },
  {
   "cell_type": "code",
   "execution_count": 9,
   "id": "66aff7c2-31cf-42a9-9389-4909a2823015",
   "metadata": {},
   "outputs": [
    {
     "name": "stdout",
     "output_type": "stream",
     "text": [
      "Test 7: Validating blockchain integrity.\n",
      "Chain is valid ✅\n",
      "------------------------------------------------------------\n"
     ]
    }
   ],
   "source": [
    "# Test 7: Validate the chain\n",
    "print(\"Test 7: Validating blockchain integrity.\")\n",
    "is_valid = blockchain.is_chain_valid(blockchain.chain)\n",
    "print(\"Chain is valid ✅\" if is_valid else \"Chain is NOT valid ❌ - See errors above.\")\n",
    "print(\"-\" * 60)"
   ]
  },
  {
   "cell_type": "code",
   "execution_count": 10,
   "id": "a86c9327-c7c3-4002-8a14-ff4c2cc0ea20",
   "metadata": {},
   "outputs": [
    {
     "name": "stdout",
     "output_type": "stream",
     "text": [
      "Test 8: Tampering with data in Block 1 to simulate attack.\n",
      "Tampered Block 1 data from 'Patient A - Diagnosis: Flu' to 'Patient A - HACKED DIAGNOSIS!'.\n",
      "------------------------------------------------------------\n"
     ]
    }
   ],
   "source": [
    "# Test 8: Tamper with a block to simulate attack\n",
    "print(\"Test 8: Tampering with data in Block 1 to simulate attack.\")\n",
    "tampered_chain = copy.deepcopy(blockchain.chain)\n",
    "original_data_block_1 = tampered_chain[1]['data']\n",
    "tampered_chain[1]['data'] = \"Patient A - HACKED DIAGNOSIS!\"\n",
    "print(f\"Tampered Block {tampered_chain[1]['index']} data from '{original_data_block_1}' to '{tampered_chain[1]['data']}'.\")\n",
    "print(\"-\" * 60)"
   ]
  },
  {
   "cell_type": "code",
   "execution_count": 11,
   "id": "7a0b0765-9ece-42dd-a390-d369ac4729af",
   "metadata": {},
   "outputs": [
    {
     "name": "stdout",
     "output_type": "stream",
     "text": [
      "Test 9: Validating blockchain integrity.\n",
      "Chain is valid ✅\n",
      "------------------------------------------------------------\n"
     ]
    }
   ],
   "source": [
    "# Test 9: Validate the chain\n",
    "print(\"Test 9: Validating blockchain integrity.\")\n",
    "is_valid = blockchain.is_chain_valid(blockchain.chain)\n",
    "print(\"Chain is valid ✅\" if is_valid else \"Chain is NOT valid ❌ - See errors above.\")\n",
    "print(\"-\" * 60)"
   ]
  },
  {
   "cell_type": "code",
   "execution_count": 12,
   "id": "83e7827b-d833-44e2-a55b-81347f4d548a",
   "metadata": {},
   "outputs": [
    {
     "name": "stdout",
     "output_type": "stream",
     "text": [
      "Test 10: Revalidating chain after tampering (using the tampered copy).\n",
      "Validation Error: Block 1 hash mismatch.\n",
      "Chain is NOT valid ❌ - Tampering detected as expected.\n",
      "Note: Tampering with block data changes its hash, breaking the chain link and PoW.\n",
      "------------------------------------------------------------\n"
     ]
    }
   ],
   "source": [
    "# Test 10: Revalidate the chain after tampering\n",
    "print(\"Test 10: Revalidating chain after tampering (using the tampered copy).\")\n",
    "is_valid_after_tamper = blockchain.is_chain_valid(tampered_chain)\n",
    "print(\"Chain is valid ✅\" if is_valid_after_tamper else \"Chain is NOT valid ❌ - Tampering detected as expected.\")\n",
    "print(\"Note: Tampering with block data changes its hash, breaking the chain link and PoW.\")\n",
    "print(\"-\" * 60)"
   ]
  },
  {
   "cell_type": "code",
   "execution_count": 13,
   "id": "3595da6a-b980-4115-a56f-f1ac70b7b971",
   "metadata": {},
   "outputs": [
    {
     "name": "stdout",
     "output_type": "stream",
     "text": [
      "Test 11: Simulating a longer, valid chain from another node.\n",
      "Simulated new chain length: 4\n",
      "Current blockchain length: 3\n",
      "------------------------------------------------------------\n"
     ]
    }
   ],
   "source": [
    "# Test 11: Simulate a longer, valid chain from another node\n",
    "print(\"Test 11: Simulating a longer, valid chain from another node.\")\n",
    "another_node_blockchain = SimpleBlockchain()\n",
    "another_node_blockchain.add_block(\"Patient C - Diagnosis: Asthma (from another node)\")\n",
    "another_node_blockchain.add_block(\"Patient D - Diagnosis: Allergies (from another node)\")\n",
    "another_node_blockchain.add_block(\"Patient E - Diagnosis: Migraine (from another node)\")\n",
    "assert another_node_blockchain.is_chain_valid(another_node_blockchain.chain)\n",
    "print(f\"Simulated new chain length: {len(another_node_blockchain.chain)}\")\n",
    "print(f\"Current blockchain length: {len(blockchain.chain)}\")\n",
    "print(\"-\" * 60)"
   ]
  },
  {
   "cell_type": "code",
   "execution_count": 14,
   "id": "02014e17-e4ed-4e20-a15e-78d4f297d39f",
   "metadata": {},
   "outputs": [
    {
     "name": "stdout",
     "output_type": "stream",
     "text": [
      "Test 12: Applying consensus: attempting to replace current chain with the new longer valid chain.\n",
      "Chain replaced ✅ - New chain is longer and valid.\n",
      "Consensus result: Chain replaced ✅ - Adopted the longer, valid chain.\n",
      "Details of the newly adopted chain:\n",
      "  Index: 0, Data: Genesis Block, Hash: f8e59c59b2...\n",
      "  Index: 1, Data: Patient C - Diagnosis: Asthma (from another node), Hash: 0000a9beb7...\n",
      "  Index: 2, Data: Patient D - Diagnosis: Allergies (from another node), Hash: 0000156383...\n",
      "  Index: 3, Data: Patient E - Diagnosis: Migraine (from another node), Hash: 0000482708...\n",
      "New Current Chain Length: 4\n",
      "------------------------------------------------------------\n"
     ]
    }
   ],
   "source": [
    "# Test 12: Apply consensus to adopt longer valid chain\n",
    "print(\"Test 12: Applying consensus: attempting to replace current chain with the new longer valid chain.\")\n",
    "result_consensus = blockchain.replace_chain(another_node_blockchain.chain)\n",
    "if result_consensus:\n",
    "    print(\"Consensus result: Chain replaced ✅ - Adopted the longer, valid chain.\")\n",
    "    print(\"Details of the newly adopted chain:\")\n",
    "    for block in blockchain.chain:\n",
    "        print(f\"  Index: {block['index']}, Data: {block['data']}, Hash: {block['hash'][:10]}...\") # Truncate hash for readability\n",
    "else:\n",
    "    print(\"Consensus result: Chain NOT replaced ❌ - Either shorter or invalid.\")\n",
    "print(f\"New Current Chain Length: {len(blockchain.chain)}\")\n",
    "print(\"-\" * 60)"
   ]
  },
  {
   "cell_type": "code",
   "execution_count": 15,
   "id": "8c7970f4-01e6-427f-8f58-e5f9cd235235",
   "metadata": {},
   "outputs": [
    {
     "name": "stdout",
     "output_type": "stream",
     "text": [
      "Test 13: Final blockchain contents after consensus.\n",
      "Index: 0, Data: Genesis Block, Hash: f8e59c59b2...\n",
      "Index: 1, Data: Patient C - Diagnosis: Asthma (from another node), Hash: 0000a9beb7...\n",
      "Index: 2, Data: Patient D - Diagnosis: Allergies (from another node), Hash: 0000156383...\n",
      "Index: 3, Data: Patient E - Diagnosis: Migraine (from another node), Hash: 0000482708...\n",
      "\n",
      "✅  Final blockchain.\n"
     ]
    }
   ],
   "source": [
    "# Test 13: Print final chain contents\n",
    "print(\"Test 13: Final blockchain contents after consensus.\")\n",
    "for block in blockchain.chain:\n",
    "    print(f\"Index: {block['index']}, Data: {block['data']}, Hash: {block['hash'][:10]}...\") # Truncate hash for readability\n",
    "print(\"\\n✅  Final blockchain.\")"
   ]
  },
  {
   "cell_type": "code",
   "execution_count": 16,
   "id": "c03bbbaf-714f-4ecd-88c3-47af86c6476a",
   "metadata": {},
   "outputs": [
    {
     "name": "stdout",
     "output_type": "stream",
     "text": [
      "✅ Test 14 Nonce uniqueness confirmed.\n"
     ]
    }
   ],
   "source": [
    "# Test 14 Test for nonce reuse\n",
    "\n",
    "nonces = [block['nonce'] for block in blockchain.chain]\n",
    "assert len(nonces) == len(set(nonces)), \"❌ Nonces reused across blocks!\"\n",
    "print(\"✅ Test 14 Nonce uniqueness confirmed.\")\n"
   ]
  },
  {
   "cell_type": "code",
   "execution_count": 17,
   "id": "60493c03-831c-445a-9ed0-9c05255e407c",
   "metadata": {},
   "outputs": [
    {
     "data": {
      "text/plain": [
       "[{'index': 0,\n",
       "  'timestamp': '2025-06-09 14:55:50',\n",
       "  'data': 'Genesis Block',\n",
       "  'previous_hash': '0',\n",
       "  'nonce': 0,\n",
       "  'hash': 'f8e59c59b2df9ad9a28820cb32fb96d272b5d583d6a54ba28a392d81eb07d53d'},\n",
       " {'index': 1,\n",
       "  'timestamp': '2025-06-09 14:55:50',\n",
       "  'data': 'Patient C - Diagnosis: Asthma (from another node)',\n",
       "  'previous_hash': 'f8e59c59b2df9ad9a28820cb32fb96d272b5d583d6a54ba28a392d81eb07d53d',\n",
       "  'nonce': 74951,\n",
       "  'hash': '0000a9beb725b65f5648cc6813fae3362f7f3a48afbdb8d89b6af89f8fd7c8ac'},\n",
       " {'index': 2,\n",
       "  'timestamp': '2025-06-09 14:55:51',\n",
       "  'data': 'Patient D - Diagnosis: Allergies (from another node)',\n",
       "  'previous_hash': '0000a9beb725b65f5648cc6813fae3362f7f3a48afbdb8d89b6af89f8fd7c8ac',\n",
       "  'nonce': 9175,\n",
       "  'hash': '00001563836235960e107f9993d744b9e85167e737eee7098fbc84e4cc17f298'},\n",
       " {'index': 3,\n",
       "  'timestamp': '2025-06-09 14:55:52',\n",
       "  'data': 'Patient E - Diagnosis: Migraine (from another node)',\n",
       "  'previous_hash': '00001563836235960e107f9993d744b9e85167e737eee7098fbc84e4cc17f298',\n",
       "  'nonce': 73713,\n",
       "  'hash': '000048270890d76f9faf7be68eab4e2d6c50f5d5f6c72778d01ef10edb6b49bd'}]"
      ]
     },
     "execution_count": 17,
     "metadata": {},
     "output_type": "execute_result"
    }
   ],
   "source": [
    "# list of all blocks\n",
    "blockchain.chain"
   ]
  },
  {
   "cell_type": "code",
   "execution_count": null,
   "id": "d37103f5-b2d9-4320-a933-343b3fa05c44",
   "metadata": {},
   "outputs": [],
   "source": []
  },
  {
   "cell_type": "code",
   "execution_count": null,
   "id": "3a290cdb-d1b1-4abb-a213-9b644704b7d6",
   "metadata": {},
   "outputs": [],
   "source": []
  }
 ],
 "metadata": {
  "kernelspec": {
   "display_name": "Python 3 (ipykernel)",
   "language": "python",
   "name": "python3"
  },
  "language_info": {
   "codemirror_mode": {
    "name": "ipython",
    "version": 3
   },
   "file_extension": ".py",
   "mimetype": "text/x-python",
   "name": "python",
   "nbconvert_exporter": "python",
   "pygments_lexer": "ipython3",
   "version": "3.12.4"
  }
 },
 "nbformat": 4,
 "nbformat_minor": 5
}
